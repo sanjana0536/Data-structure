{
  "nbformat": 4,
  "nbformat_minor": 0,
  "metadata": {
    "colab": {
      "provenance": []
    },
    "kernelspec": {
      "name": "python3",
      "display_name": "Python 3"
    },
    "language_info": {
      "name": "python"
    }
  },
  "cells": [
    {
      "cell_type": "markdown",
      "source": [
        "# **Data Types and Structures**\n",
        "\n",
        "1) What are data structures, and why are they important?\n",
        "   - Data structures organize and store data efficiently. They're important because they help in managing data in ways that enable easy access and modification.\n",
        "\n",
        "\n",
        "\n",
        "2) Explain the difference between mutable and immutable data types with exaples.\n",
        "   -  Mutable :- Mutable mean we can the change element after the creation of list,dict,set. my_list = [1, 2]\n",
        "   my_list.append(3)\n",
        "   in this there add of 3 in my_list [1,2,3]\n",
        "   \n",
        "   - Immutable :- Immutable mean we cannot change the element after creation of int, float, tuple, str.\n",
        "   my_str = \"hello\"\n",
        "   my_str[0] = \"H\"\n",
        "   it will through error\n",
        "\n",
        "\n",
        "3) What are the main differences between lists and tuples in python?\n",
        "   - Main Differences Between Lists and Tuples in Python:\n",
        "     \n",
        "     i) Lists are mutable, tuples are immutable.\n",
        "     \n",
        "     ii) Tuples are generally faster than lists due to their immutability.\n",
        "    \n",
        "     iii) Tuples use less memory compared to lists\n",
        "\n",
        "     iv) List uses [ ] , Tuple uses ()\n",
        "\n",
        "\n",
        "4) Describe how dictionaries store data.\n",
        "   - Dictionaries store data in key-value pairs using a hash table. Each key is hashed to a memory location where its value is stored.\n",
        "\n",
        "   eg, dict = {'name': 'Sanjana', 'age': 20}\n",
        "   here name is key while Sanjana is value of key.\n",
        "\n",
        "\n",
        "5) Why might you use a set instead of a list in python?\n",
        "   - Sets remove duplicates and are faster for checking existence.\n",
        "\n",
        "\n",
        "6) What is a string in python , and how is it different from a list?\n",
        "   - A string is a sequence of characters (immutable), while a list can hold    any type of items and is mutable.\n",
        "\n",
        "7) How do tuples ensure data integrity in python?\n",
        "   - Being immutable, they prevent accidental changes.Because tuples are immutable, their data can't be altered accidentally, ensuring that values\n",
        " remain consistent.\n",
        "\n",
        "\n",
        "8) What is a hash table, and how does it relate to dictionaries in python?\n",
        "   - A hash table maps keys to values. Python dictionaries use hash tables internally.\n",
        "\n",
        "\n",
        "9) Can lists contain different data types in python?\n",
        "   - Yes, list can contain different data type\n",
        "     \n",
        "     lst = [1, 'hello', True]\n",
        "\n",
        "\n",
        "10) Explain why strings are immutable in python.   \n",
        "  - For safety, consistency, and performance reasons.\n",
        "\n",
        "\n",
        "11) What advantages do dictionaries offer over lists for certain tasks?\n",
        "   - Faster lookup by key.\n",
        "\n",
        "   - More descriptive using key-value pairs.\n",
        "\n",
        "   - key-value mapping for better data representation.\n",
        "\n",
        "\n",
        "12) Describe a scenario where using a tuple would be preferable over a list.\n",
        "\n",
        "  - A tuple would be preferable over a list when you need to represent a      fixed immutable sequence\n",
        "     of data like a coordinate point or a set of constants.\n",
        "\n",
        "\n",
        "13) How do sets handle duplicate value in python?\n",
        "  - Python set data structures inherently do not allow duplicate values. When we attempt to add duplicate values to a set, or when we create a set from an iterable that contains duplicates, the set will automatically discard the duplicates, storing only one instance of each unique element.\n",
        "\n",
        "\n",
        "14) How does the \"in\" keyword word differently for lists and dictionaries?\n",
        "   - In lists: checks if value exists\n",
        "     \n",
        "   - In dicts: checks if key exists\n",
        "\n",
        "\n",
        "15)Can you modify the elements of a tuple? Explain why or why not.\n",
        "   - Since Tuples data structure is immutable, meaning we cannot modify the elements of tuples once its created.\n",
        "\n",
        "16) what is a nested dictionary, and give an example of its use case?\n",
        "   - A dictionary with other dictionaries inside it: {\"person\": {\"name\": \"Tom\"}}\n",
        "\n",
        "\n",
        "17) Describe the time complexity of accessing elements in a dictionary.\n",
        "  - The time complexity of accessing elements in a Python dictionary is O(1) average time — very fast.\n",
        "\n",
        "\n",
        "18) In what situations are lists preferred over dictionaries?\n",
        "  - When you only care about unique values, not key-value mapping.\n",
        "    When data naturally fits a sequence, where order and positional access are important, and duplicates are acceptable, a list is the preffered choice.\n",
        "\n",
        "19) Why are dictionaries considered unordered, and how does that affect data retrieval.\n",
        "    \n",
        "  - Dictionaries are designed for fast, direct access to values when we have the unique key. Their \"unordered\" nature means we trade index-based access for extremely efficient key-based retrieval, making them ideal for mapping and lookup tasks.\n",
        "\n",
        "  - We cannot retrieve items using integer indices like my_dict[0]. We must   know the exact key to retrieve its associated value.\n",
        "\n",
        "  - Data retrieval is inherently driven by the key. If we don't know the key, we have to iterate through the dictionary's keys or values to find what we're looking for, which is less efficient than a direct key lookup.\n",
        "\n",
        "20) Explain the difference  between a list and a dictionary in terms of data    retrieval.\n",
        "  - Lists are for ordered collections where you want to retrieve \"the Nth item,\" like List[1]. - while dictionaries are for unordered collections where you want to retrieve \"the item named X. eg, my_dict = {'name': 'sanjana', 'age': 20, 'city': 'Bhilai'} person_name = my_dict['name'] person_age = my_age['age']"
      ],
      "metadata": {
        "id": "PQ5DMa7DNw5n"
      }
    },
    {
      "cell_type": "markdown",
      "source": [
        "1) Write a code to create a string with your name and print it."
      ],
      "metadata": {
        "id": "n8ETmWPn5oiH"
      }
    },
    {
      "cell_type": "code",
      "execution_count": null,
      "metadata": {
        "colab": {
          "base_uri": "https://localhost:8080/"
        },
        "id": "KYOGEoOOkab-",
        "outputId": "df44dd83-c3fb-4604-ac5b-e012d5524dfa"
      },
      "outputs": [
        {
          "output_type": "stream",
          "name": "stdout",
          "text": [
            "Sanjana\n"
          ]
        }
      ],
      "source": [
        "#create a string\n",
        "name = \"Sanjana\"\n",
        "print(name)"
      ]
    },
    {
      "cell_type": "markdown",
      "source": [
        "2) Write a code to find the length of the string \"Hello World\"."
      ],
      "metadata": {
        "id": "yct1D08y5s-X"
      }
    },
    {
      "cell_type": "code",
      "source": [
        "#length of \"hello world\"\n",
        "print(len(\"hello world\"))"
      ],
      "metadata": {
        "colab": {
          "base_uri": "https://localhost:8080/"
        },
        "id": "Iuw87ariks99",
        "outputId": "9b0892e9-0a88-4ef3-dcc7-595691b6c279"
      },
      "execution_count": null,
      "outputs": [
        {
          "output_type": "stream",
          "name": "stdout",
          "text": [
            "11\n"
          ]
        }
      ]
    },
    {
      "cell_type": "markdown",
      "source": [
        "3) Write a code to slice the first 3 characters from the string \"Python Programming\"."
      ],
      "metadata": {
        "id": "dcEK3z9C5vS9"
      }
    },
    {
      "cell_type": "code",
      "source": [
        "# slice first 3 character\n",
        "string = \"python programming\"\n",
        "sliced_string = string[:3]\n",
        "print(sliced_string)"
      ],
      "metadata": {
        "colab": {
          "base_uri": "https://localhost:8080/"
        },
        "id": "cnSAzA1Vk769",
        "outputId": "5e62e91d-ccd6-4723-bd5c-6d2afc7ffa79"
      },
      "execution_count": null,
      "outputs": [
        {
          "output_type": "stream",
          "name": "stdout",
          "text": [
            "pyt\n"
          ]
        }
      ]
    },
    {
      "cell_type": "markdown",
      "source": [
        "4) Write a code to convert the string \"hello\" to uppercase."
      ],
      "metadata": {
        "id": "JSbdogVo5xpt"
      }
    },
    {
      "cell_type": "code",
      "source": [
        "#convert to uppercase\n",
        "string=\"hello\"\n",
        "uprString = string.upper()\n",
        "print(uprString)"
      ],
      "metadata": {
        "colab": {
          "base_uri": "https://localhost:8080/"
        },
        "id": "BeKMBNsJk85g",
        "outputId": "9e4df204-d706-47cf-f601-91a4532d7f2d"
      },
      "execution_count": null,
      "outputs": [
        {
          "output_type": "stream",
          "name": "stdout",
          "text": [
            "HELLO\n"
          ]
        }
      ]
    },
    {
      "cell_type": "markdown",
      "source": [
        "5) Write a code to replace the word \"apple\" with \"orange\" in the string \"I like apple\"."
      ],
      "metadata": {
        "id": "LHLyq5d550Xq"
      }
    },
    {
      "cell_type": "code",
      "source": [
        "# Replace \"apple\" with \"orange\"\n",
        "print(\"I like apples\".replace(\"apples\", \"oranges\"))"
      ],
      "metadata": {
        "colab": {
          "base_uri": "https://localhost:8080/"
        },
        "id": "Aax7FAIJk8s1",
        "outputId": "e13840d4-b624-4481-dc3e-5c1cf4930775"
      },
      "execution_count": null,
      "outputs": [
        {
          "output_type": "stream",
          "name": "stdout",
          "text": [
            "I like oranges\n"
          ]
        }
      ]
    },
    {
      "cell_type": "markdown",
      "source": [
        "6) Write a code to create a list with numbers 1 to 5 and print it."
      ],
      "metadata": {
        "id": "lHmeY7LU53SP"
      }
    },
    {
      "cell_type": "code",
      "source": [
        "#list 1 to 5\n",
        "print(list(range(1,6)))"
      ],
      "metadata": {
        "colab": {
          "base_uri": "https://localhost:8080/"
        },
        "id": "JMMYmvr-mCo-",
        "outputId": "cc6e2b7f-b69e-4e19-e8d5-4495984bdc68"
      },
      "execution_count": null,
      "outputs": [
        {
          "output_type": "stream",
          "name": "stdout",
          "text": [
            "[1, 2, 3, 4, 5]\n"
          ]
        }
      ]
    },
    {
      "cell_type": "markdown",
      "source": [
        "7) Write a code to append the number 10 to the list [1, 2, 3, 4]."
      ],
      "metadata": {
        "id": "eJTBBPWT55Vv"
      }
    },
    {
      "cell_type": "code",
      "source": [
        "#append 10\n",
        "lst = [1, 2, 3, 4]\n",
        "lst.append(10)\n",
        "print(lst)"
      ],
      "metadata": {
        "colab": {
          "base_uri": "https://localhost:8080/"
        },
        "id": "sXSb3B0mmU31",
        "outputId": "767f2811-30b5-42a6-faa6-6496ff4afc18"
      },
      "execution_count": null,
      "outputs": [
        {
          "output_type": "stream",
          "name": "stdout",
          "text": [
            "[1, 2, 3, 4, 10]\n"
          ]
        }
      ]
    },
    {
      "cell_type": "markdown",
      "source": [
        "8) Write a code to remove the number 3 from the list [1, 2, 3, 4, 5]."
      ],
      "metadata": {
        "id": "uDTXCzN5564T"
      }
    },
    {
      "cell_type": "code",
      "source": [
        "# Remove 3\n",
        "lst = [1, 2, 3, 4, 5]\n",
        "lst.remove(3)\n",
        "print(lst)"
      ],
      "metadata": {
        "colab": {
          "base_uri": "https://localhost:8080/"
        },
        "id": "PQTSGpdamUlh",
        "outputId": "1d9ce9db-ea3d-4cf0-d7f3-9d0a5e2a5aeb"
      },
      "execution_count": null,
      "outputs": [
        {
          "output_type": "stream",
          "name": "stdout",
          "text": [
            "[1, 2, 4, 5]\n"
          ]
        }
      ]
    },
    {
      "cell_type": "markdown",
      "source": [
        "9) Write a code to access the second element in the list ['a', 'b', 'c', 'd']."
      ],
      "metadata": {
        "id": "XKpSzsIh58T5"
      }
    },
    {
      "cell_type": "code",
      "source": [
        "# Access second element\n",
        "print(['a', 'b', 'c', 'd'][1])"
      ],
      "metadata": {
        "colab": {
          "base_uri": "https://localhost:8080/"
        },
        "id": "aemT6bhcmUX8",
        "outputId": "ca2cfb6f-4735-4e63-d833-b3dbee184f9b"
      },
      "execution_count": null,
      "outputs": [
        {
          "output_type": "stream",
          "name": "stdout",
          "text": [
            "b\n"
          ]
        }
      ]
    },
    {
      "cell_type": "markdown",
      "source": [
        "10)  Write a code to reverse the list [10, 20, 30, 40, 50]."
      ],
      "metadata": {
        "id": "hhw6okk159xq"
      }
    },
    {
      "cell_type": "code",
      "source": [
        "# Reverse list\n",
        "print([10, 20, 30, 40, 50][::-1])"
      ],
      "metadata": {
        "id": "9OLSCiKtmURN",
        "colab": {
          "base_uri": "https://localhost:8080/"
        },
        "outputId": "12300360-2097-4e8f-8419-9bafb9ad45f2"
      },
      "execution_count": null,
      "outputs": [
        {
          "output_type": "stream",
          "name": "stdout",
          "text": [
            "[50, 40, 30, 20, 10]\n"
          ]
        }
      ]
    },
    {
      "cell_type": "markdown",
      "source": [
        "11) Write a code to create a tuple with the elements 100, 200, 300 and print it."
      ],
      "metadata": {
        "id": "4fAAD34m6tIQ"
      }
    },
    {
      "cell_type": "code",
      "source": [
        "# Create a tuple\n",
        "tup = (100, 200, 300)\n",
        "print(tup)"
      ],
      "metadata": {
        "id": "Yc7uN9JNmUJT",
        "colab": {
          "base_uri": "https://localhost:8080/"
        },
        "outputId": "f9b9cdcf-7db2-4d07-90fb-395f1e60b5ce"
      },
      "execution_count": null,
      "outputs": [
        {
          "output_type": "stream",
          "name": "stdout",
          "text": [
            "(100, 200, 300)\n"
          ]
        }
      ]
    },
    {
      "cell_type": "markdown",
      "source": [
        "12) Write a code to access the second-to-last element of the tuple ('red', 'green', 'blue', 'yellow')."
      ],
      "metadata": {
        "id": "WjISudIx67cs"
      }
    },
    {
      "cell_type": "code",
      "source": [
        "# Access second-last element\n",
        "colTuple = ('red', 'green', 'blue', 'yellow')\n",
        "print(colTuple[-2])"
      ],
      "metadata": {
        "id": "t6h9qj0w68wc",
        "colab": {
          "base_uri": "https://localhost:8080/"
        },
        "outputId": "51ea0a58-c0ec-4e28-832f-b8dad2116296"
      },
      "execution_count": null,
      "outputs": [
        {
          "output_type": "stream",
          "name": "stdout",
          "text": [
            "blue\n"
          ]
        }
      ]
    },
    {
      "cell_type": "markdown",
      "source": [
        "13) Write a code to find the minimum number in the tuple (10, 20, 5, 15)."
      ],
      "metadata": {
        "id": "EcTLNAzYXYyL"
      }
    },
    {
      "cell_type": "code",
      "source": [
        "# Minimum in tuple\n",
        "print(min((10, 20, 5, 15)))"
      ],
      "metadata": {
        "colab": {
          "base_uri": "https://localhost:8080/"
        },
        "id": "VbYXqOmLXaEI",
        "outputId": "2b80384e-2e78-4296-e383-a3475dbe72f4"
      },
      "execution_count": null,
      "outputs": [
        {
          "output_type": "stream",
          "name": "stdout",
          "text": [
            "5\n"
          ]
        }
      ]
    },
    {
      "cell_type": "markdown",
      "source": [
        "14) Write a code to find the index of the element \"cat\" in the tuple ('dog', 'cat', 'rabbit')."
      ],
      "metadata": {
        "id": "ybTsbBXQYFDc"
      }
    },
    {
      "cell_type": "code",
      "source": [
        "# Index of 'cat'\n",
        "print(('dog', 'cat', 'rabbit').index('cat'))"
      ],
      "metadata": {
        "colab": {
          "base_uri": "https://localhost:8080/"
        },
        "id": "J5hTNLcaXcZH",
        "outputId": "eeface64-2253-4c8b-a440-4a2e6ac7484b"
      },
      "execution_count": null,
      "outputs": [
        {
          "output_type": "stream",
          "name": "stdout",
          "text": [
            "1\n"
          ]
        }
      ]
    },
    {
      "cell_type": "markdown",
      "source": [
        "15) Write a code to create a tuple containing three different fruits and check if \"kiwi\" is in it."
      ],
      "metadata": {
        "id": "T6C_L_s_YJ37"
      }
    },
    {
      "cell_type": "code",
      "source": [
        "# Tuple of fruits and check\n",
        "fruits = ('apple', 'banana', 'mango')\n",
        "print('kiwi' in fruits)"
      ],
      "metadata": {
        "colab": {
          "base_uri": "https://localhost:8080/"
        },
        "id": "cEk68NIqXcMc",
        "outputId": "c92b4ca6-2304-4188-bf7a-e363f59acfde"
      },
      "execution_count": null,
      "outputs": [
        {
          "output_type": "stream",
          "name": "stdout",
          "text": [
            "False\n"
          ]
        }
      ]
    },
    {
      "cell_type": "markdown",
      "source": [
        "16) Write a code to create a set with the elements 'a', 'b', 'c' and print it."
      ],
      "metadata": {
        "id": "tpN3MoQiYHhW"
      }
    },
    {
      "cell_type": "code",
      "source": [
        "# Set of chars\n",
        "print(set(['a', 'b', 'c']))"
      ],
      "metadata": {
        "colab": {
          "base_uri": "https://localhost:8080/"
        },
        "id": "XM6LvV_PXcFm",
        "outputId": "245b8a56-a272-4365-c8c2-cc4e03189d3c"
      },
      "execution_count": null,
      "outputs": [
        {
          "output_type": "stream",
          "name": "stdout",
          "text": [
            "{'a', 'c', 'b'}\n"
          ]
        }
      ]
    },
    {
      "cell_type": "markdown",
      "source": [
        "17) Write a code to clear all elements from the set {1, 2, 3, 4, 5}."
      ],
      "metadata": {
        "id": "a5FB_kSLY-DH"
      }
    },
    {
      "cell_type": "code",
      "source": [
        "# Clear a set\n",
        "alphSet =  {1, 2, 3, 4, 5}\n",
        "clearSet = alphSet.clear()\n",
        "print(clearSet)"
      ],
      "metadata": {
        "colab": {
          "base_uri": "https://localhost:8080/"
        },
        "id": "59GfDtBTXb0O",
        "outputId": "8afb035e-b8a0-4dc3-f405-2abf4de20779"
      },
      "execution_count": null,
      "outputs": [
        {
          "output_type": "stream",
          "name": "stdout",
          "text": [
            "None\n"
          ]
        }
      ]
    },
    {
      "cell_type": "markdown",
      "source": [
        "18) Write a code to remove the element 4 from the set {1, 2, 3, 4}"
      ],
      "metadata": {
        "id": "f5UapYN1ZOh-"
      }
    },
    {
      "cell_type": "code",
      "source": [
        "# Remove 4\n",
        "s = {1, 2, 3, 4}\n",
        "s.remove(4)\n",
        "print(s)"
      ],
      "metadata": {
        "colab": {
          "base_uri": "https://localhost:8080/"
        },
        "id": "6hmIoxgWZPwk",
        "outputId": "f3c94ef8-7d3c-41b7-a59d-fed81b839ee3"
      },
      "execution_count": null,
      "outputs": [
        {
          "output_type": "stream",
          "name": "stdout",
          "text": [
            "{1, 2, 3}\n"
          ]
        }
      ]
    },
    {
      "cell_type": "markdown",
      "source": [
        "19)  Write a code to find the union of two sets {1, 2, 3} and {3, 4, 5}."
      ],
      "metadata": {
        "id": "VIS3Ok9VZm1o"
      }
    },
    {
      "cell_type": "code",
      "source": [
        "# Union of sets\n",
        "set1 = {1, 2, 3}\n",
        "set2 = {3, 4, 5}\n",
        "setUnion = set1.union(set2)\n",
        "print(setUnion)"
      ],
      "metadata": {
        "colab": {
          "base_uri": "https://localhost:8080/"
        },
        "id": "2SxyjUqMZocK",
        "outputId": "b04770ff-502e-418f-b757-6c255117c137"
      },
      "execution_count": null,
      "outputs": [
        {
          "output_type": "stream",
          "name": "stdout",
          "text": [
            "{1, 2, 3, 4, 5}\n"
          ]
        }
      ]
    },
    {
      "cell_type": "markdown",
      "source": [
        "20)  Write a code to find the intersection of two sets {1, 2, 3} and {2, 3, 4}."
      ],
      "metadata": {
        "id": "RMxakVmxZoz2"
      }
    },
    {
      "cell_type": "code",
      "source": [
        "# Intersection of sets\n",
        "print(set([1, 2, 3]).intersection([2, 3, 4]))"
      ],
      "metadata": {
        "colab": {
          "base_uri": "https://localhost:8080/"
        },
        "id": "h3mfIAfGZqa2",
        "outputId": "f64b02bb-d01d-4283-8b97-6838878f0e39"
      },
      "execution_count": null,
      "outputs": [
        {
          "output_type": "stream",
          "name": "stdout",
          "text": [
            "{2, 3}\n"
          ]
        }
      ]
    },
    {
      "cell_type": "markdown",
      "source": [
        "21) Write a code to create a dictionary with the keys \"name\", \"age\", and \"city\", and print it."
      ],
      "metadata": {
        "id": "u8_hk827Z7q7"
      }
    },
    {
      "cell_type": "code",
      "source": [
        "# Dictionary\n",
        "person = {\"name\": \"sanjana\", \"age\": 20, \"city\": \" chhattisgarh\"}\n",
        "print(person)"
      ],
      "metadata": {
        "colab": {
          "base_uri": "https://localhost:8080/"
        },
        "id": "Yv6nLPc8Z9-_",
        "outputId": "85c3150c-265d-4695-fb87-387756ba7c69"
      },
      "execution_count": null,
      "outputs": [
        {
          "output_type": "stream",
          "name": "stdout",
          "text": [
            "{'name': 'sanjana', 'age': 20, 'city': ' chhattisgarh'}\n"
          ]
        }
      ]
    },
    {
      "cell_type": "markdown",
      "source": [
        "22) Write a code to add a new key-value pair \"country\": \"USA\" to the dictionary {'name': 'John', 'age': 25}."
      ],
      "metadata": {
        "id": "dgj8kNm0Z7iA"
      }
    },
    {
      "cell_type": "code",
      "source": [
        "# Add new key-value\n",
        "perDict = {'name':'Sanjana', 'age':'20', 'city':'Bhilai'}\n",
        "perDict['Country']='USA'\n",
        "print(perDict)"
      ],
      "metadata": {
        "colab": {
          "base_uri": "https://localhost:8080/"
        },
        "id": "4RX-uCNX0zis",
        "outputId": "c6be82b4-5219-4e3a-cb33-62a4d28d3f52"
      },
      "execution_count": null,
      "outputs": [
        {
          "output_type": "stream",
          "name": "stdout",
          "text": [
            "{'name': 'Sanjana', 'age': '20', 'city': 'Bhilai', 'Country': 'USA'}\n"
          ]
        }
      ]
    },
    {
      "cell_type": "markdown",
      "source": [
        "23)  Write a code to access the value associated with the key \"name\" in the dictionary {'name': 'Alice', 'age': 30}."
      ],
      "metadata": {
        "id": "zD-6W_DxZ7aV"
      }
    },
    {
      "cell_type": "code",
      "source": [
        "# Access value by key\n",
        "persDict = {'name': 'Alice', 'age': 30}\n",
        "val = persDict['name']\n",
        "print(val)"
      ],
      "metadata": {
        "colab": {
          "base_uri": "https://localhost:8080/"
        },
        "id": "03rmg1FPaCh2",
        "outputId": "017ed7c0-8fac-4c46-a80e-956d7317a608"
      },
      "execution_count": null,
      "outputs": [
        {
          "output_type": "stream",
          "name": "stdout",
          "text": [
            "Alice\n"
          ]
        }
      ]
    },
    {
      "cell_type": "markdown",
      "source": [
        "24) Write a code to remove the key \"age\" from the dictionary {'name': 'Bob', 'age': 22, 'city': 'New York'}."
      ],
      "metadata": {
        "id": "X8ILkbLsbxDo"
      }
    },
    {
      "cell_type": "code",
      "source": [
        "# Remove key\n",
        "d = {\"name\": \"sanjana\", \"age\": 20, \"city\": \"India\"}\n",
        "del d[\"age\"]\n",
        "print(d)"
      ],
      "metadata": {
        "colab": {
          "base_uri": "https://localhost:8080/"
        },
        "id": "riEZ7d-Nb5PJ",
        "outputId": "df163348-863a-4744-bc6a-05ffb85a9252"
      },
      "execution_count": null,
      "outputs": [
        {
          "output_type": "stream",
          "name": "stdout",
          "text": [
            "{'name': 'sanjana', 'city': 'India'}\n"
          ]
        }
      ]
    },
    {
      "cell_type": "markdown",
      "source": [
        "25)  Write a code to check if the key \"city\" exists in the dictionary {'name': 'Alice', 'city': 'Paris'}."
      ],
      "metadata": {
        "id": "Byo5o7mtb6rT"
      }
    },
    {
      "cell_type": "code",
      "source": [
        "# Check if key exists\n",
        "print('city' in {'name': 'Alice', 'city': 'Paris'})"
      ],
      "metadata": {
        "colab": {
          "base_uri": "https://localhost:8080/"
        },
        "id": "g4v-h-rpb6DV",
        "outputId": "fb300dd5-5a94-4290-d64e-247e87ddce95"
      },
      "execution_count": null,
      "outputs": [
        {
          "output_type": "stream",
          "name": "stdout",
          "text": [
            "True\n"
          ]
        }
      ]
    },
    {
      "cell_type": "markdown",
      "source": [
        "26) Write a code to create a list, a tuple, and a dictionary, and print them all."
      ],
      "metadata": {
        "id": "qqIFXYCdb72H"
      }
    },
    {
      "cell_type": "code",
      "source": [
        "# Create list, tuple, dictionary\n",
        "my_list = [1, 2, 3]\n",
        "my_tuple = (4, 5, 6)\n",
        "my_dictionary = {\"key1\": \"value1\", \"key2\": \"value2\"}\n",
        "print(my_list)\n",
        "print(my_tuple)\n",
        "my_dictionary"
      ],
      "metadata": {
        "colab": {
          "base_uri": "https://localhost:8080/"
        },
        "id": "2Kq9sDqhh2IN",
        "outputId": "cacd33b2-a795-40cc-d7f1-73df9280a184"
      },
      "execution_count": 1,
      "outputs": [
        {
          "output_type": "stream",
          "name": "stdout",
          "text": [
            "[1, 2, 3]\n",
            "(4, 5, 6)\n"
          ]
        },
        {
          "output_type": "execute_result",
          "data": {
            "text/plain": [
              "{'key1': 'value1', 'key2': 'value2'}"
            ]
          },
          "metadata": {},
          "execution_count": 1
        }
      ]
    },
    {
      "cell_type": "markdown",
      "source": [
        "27)  Write a code to create a list of 5 random numbers between 1 and 100, sort it in ascending order, and print the\n",
        "result.(replaced)"
      ],
      "metadata": {
        "id": "BfajDaZIb9XD"
      }
    },
    {
      "cell_type": "code",
      "source": [
        "# Random numbers\n",
        "import random\n",
        "nums = random.sample(range(1, 101), 5)\n",
        "nums.sort()\n",
        "print(nums)"
      ],
      "metadata": {
        "colab": {
          "base_uri": "https://localhost:8080/"
        },
        "id": "n1GnD2Tpb5uQ",
        "outputId": "8635f5be-80b1-44cf-80d4-dc04727af5c7"
      },
      "execution_count": null,
      "outputs": [
        {
          "output_type": "stream",
          "name": "stdout",
          "text": [
            "[5, 13, 52, 94, 99]\n"
          ]
        }
      ]
    },
    {
      "cell_type": "markdown",
      "source": [
        "28) Write a code to create a list with strings and print the element at the third index."
      ],
      "metadata": {
        "id": "6yLMzl2-d_IH"
      }
    },
    {
      "cell_type": "code",
      "source": [
        "# List of strings, insert at 3rd index\n",
        "my_list = [\"apple\", \"banana\", \"cherry\", \"kiwi\", \"berry\"]\n",
        "print(my_list[2])"
      ],
      "metadata": {
        "colab": {
          "base_uri": "https://localhost:8080/"
        },
        "id": "eT3wwgLXeAQ2",
        "outputId": "09da3d47-7cdf-489f-ca8f-b63a3a255601"
      },
      "execution_count": null,
      "outputs": [
        {
          "output_type": "stream",
          "name": "stdout",
          "text": [
            "cherry\n"
          ]
        }
      ]
    },
    {
      "cell_type": "markdown",
      "source": [
        "29) Write a code to combine two dictionaries into one and print the result."
      ],
      "metadata": {
        "id": "keG-qSx4eAm4"
      }
    },
    {
      "cell_type": "code",
      "source": [
        "# Merge dictionaries\n",
        "d1 = {\"a\": 1, \"b\": 2}\n",
        "d2 = {\"c\": 3, \"d\": 4}\n",
        "d1.update(d2)\n",
        "print(d1)"
      ],
      "metadata": {
        "colab": {
          "base_uri": "https://localhost:8080/"
        },
        "id": "WZKN6qdkeCFR",
        "outputId": "76809e75-582f-46dd-92c2-acad8713d668"
      },
      "execution_count": null,
      "outputs": [
        {
          "output_type": "stream",
          "name": "stdout",
          "text": [
            "{'a': 1, 'b': 2, 'c': 3, 'd': 4}\n"
          ]
        }
      ]
    },
    {
      "cell_type": "markdown",
      "source": [
        "30) Write a code to convert a list of strings into a set."
      ],
      "metadata": {
        "id": "WWQa_a46eCc6"
      }
    },
    {
      "cell_type": "code",
      "source": [
        "# List to set\n",
        "my_list = [\"apple\", \"banana\", \"orange\", \"apple\", \"banana\"]\n",
        "my_set = set(my_list)\n",
        "print(my_set)"
      ],
      "metadata": {
        "colab": {
          "base_uri": "https://localhost:8080/"
        },
        "id": "mkfwW0F6eDj5",
        "outputId": "acad2d66-c868-47fe-b758-ca34a24c0b81"
      },
      "execution_count": null,
      "outputs": [
        {
          "output_type": "stream",
          "name": "stdout",
          "text": [
            "{'apple', 'banana', 'orange'}\n"
          ]
        }
      ]
    }
  ]
}